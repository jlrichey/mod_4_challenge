


# Initial imports
import pandas as pd
import numpy as np
import datetime as dt
from pathlib import Path

%matplotlib inline








# Reading whale returns
whale_path = "Resources/whale_returns.csv"
whale_df = pd.read_csv(whale_path, index_col="Date", parse_dates=True)
whale_df.head()


# Count nulls
whale_df.isnull().sum()


# Drop nulls
whale_df = whale_df.dropna()
whale_df.isnull().sum()





# Reading algorithmic returns
algo_path = "Resources/algo_returns.csv"
algo_df = pd.read_csv(algo_path, index_col="Date", parse_dates=True)
algo_df.index


# Count nulls
algo_df.isnull().sum()


# Drop nulls
algo_df = algo_df.dropna()
algo_df.isnull().sum()





# Reading S&P 500 Closing Prices
sp500_path = "Resources/sp500_history.csv"
sp500_df = pd.read_csv(sp500_path, index_col= "Date", parse_dates = True, date_format = "%d)
sp500_df.index




help(pd.read_csv)


# Check Data Types
sp500_df.dtypes


# Clean data by removing $ from Close field
sp500_df["Close"] = sp500_df["Close"].str.replace("$", "")


# Fix Data Types
sp500_df["Close"] = sp500_df["Close"].astype("float")
sp500_df.dtypes


# Calculate Daily Returns
sp500_daily_returns = sp500_df.pct_change()
sp500_daily_returns.head()


# Drop nulls
sp500_daily_returns = sp500_daily_returns.dropna()
sp500_daily_returns.isnull().sum()


# Rename `Close` Column to be specific to this portfolio.
sp500_daily_returns.rename(columns={'Close': 'S&P 500'}, inplace=True)
sp500_daily_returns.head()





# Join Whale Returns, Algorithmic Returns, and the S&P 500 Returns into a single DataFrame with columns for each portfolio's returns.
combined_df = pd.concat([whale_df, algo_df, sp500_daily_returns], axis="columns", join="inner")
combined_df.head()











# Plot daily returns of all portfolios
combined_df.plot(figsize=(10, 5))





# Calculate cumulative returns of all portfolios
whale_cumulative_returns = (1 + whale_df).cumprod() - 1 
algo_cumulative_returns = (1 + algo_df).cumprod() - 1 
sp500_cumulative_returns = (1 + sp500_daily_returns).cumprod() - 1 
cumulative_returns = pd.concat([whale_cumulative_returns, algo_cumulative_returns, sp500_cumulative_returns], axis="columns", join="inner")
# Plot cumulative returns
cumulative_returns.plot(figsize=(10, 5))











# Box plot to visually show risk






# Calculate the daily standard deviations of all portfolios






# Calculate  the daily standard deviation of S&P 500

# Determine which portfolios are riskier than the S&P 500






# Calculate the annualized standard deviation (252 trading days)












# Calculate the rolling standard deviation for all portfolios using a 21-day window

# Plot the rolling standard deviation






# Calculate the correlation

# Display de correlation matrix






# Calculate covariance of a single portfolio

# Calculate variance of S&P 500

# Computing beta

# Plot beta trend






# Use `ewm` to calculate the rolling window









# Annualized Sharpe Ratios



# Visualize the sharpe ratios as a bar plot















# Reading data from 1st stock



# Reading data from 2nd stock



# Reading data from 3rd stock



# Combine all stocks in a single DataFrame



# Reset Date index



# Reorganize portfolio data by having a column per symbol



# Calculate daily returns

# Drop NAs

# Display sample data






# Set weights
weights = [1/3, 1/3, 1/3]

# Calculate portfolio return

# Display sample data






# Join your returns DataFrame to the original returns DataFrame



# Only compare dates where return data exists for all the stocks (drop NaNs)









# Calculate the annualized `std`






# Calculate rolling standard deviation

# Plot rolling standard deviation






# Calculate and plot the correlation






# Calculate and plot Beta






# Calculate Annualized Sharpe Ratios



# Visualize the sharpe ratios as a bar plot







